{
 "cells": [
  {
   "cell_type": "markdown",
   "id": "4614aca6",
   "metadata": {},
   "source": [
    "## 📌 Notebook 1: Logistic Regression (Binary Classification)\n",
    "\n",
    "### Handwritten Digit Recognition with Logistic Regression\n",
    "\n",
    "This notebook introduces the first step in our learning journey: a linear binary classifier. We build **logistic regression from scratch** using PyTorch tensors to distinguish between two MNIST digits (e.g. 0 vs 1).\n",
    "\n",
    "**Key Goals**\n",
    "- Implement weights, bias, and sigmoid activation manually\n",
    "- Train using binary cross-entropy loss and gradient descent\n",
    "- Track training and validation accuracy and loss\n",
    "- Evaluate the model using a confusion matrix\n",
    "\n",
    "**Expected Takeaway**  \n",
    "Gain a foundational understanding of how gradient-based learning works on a simple binary task.\n"
   ]
  },
  {
   "cell_type": "markdown",
   "id": "41113a04",
   "metadata": {},
   "source": [
    "### Loading our data \n",
    " We will use MNIST Dataset"
   ]
  },
  {
   "cell_type": "code",
   "execution_count": 1,
   "id": "cb2d5d8d",
   "metadata": {},
   "outputs": [
    {
     "name": "stderr",
     "output_type": "stream",
     "text": [
      "/opt/anaconda3/envs/qattan/lib/python3.10/site-packages/torchvision/io/image.py:14: UserWarning: Failed to load image Python extension: 'dlopen(/opt/anaconda3/envs/qattan/lib/python3.10/site-packages/torchvision/image.so, 0x0006): Library not loaded: @rpath/libjpeg.9.dylib\n",
      "  Referenced from: <0B7EB158-53DC-3403-8A49-22178CAB4612> /opt/anaconda3/envs/qattan/lib/python3.10/site-packages/torchvision/image.so\n",
      "  Reason: tried: '/opt/anaconda3/envs/qattan/lib/python3.10/site-packages/torchvision/../../../libjpeg.9.dylib' (no such file), '/opt/anaconda3/envs/qattan/lib/python3.10/site-packages/torchvision/../../../libjpeg.9.dylib' (no such file), '/opt/anaconda3/envs/qattan/lib/python3.10/lib-dynload/../../libjpeg.9.dylib' (no such file), '/opt/anaconda3/envs/qattan/bin/../lib/libjpeg.9.dylib' (no such file)'If you don't plan on using image functionality from `torchvision.io`, you can ignore this warning. Otherwise, there might be something wrong with your environment. Did you have `libjpeg` or `libpng` installed before building `torchvision` from source?\n",
      "  warn(\n"
     ]
    },
    {
     "data": {
      "text/plain": [
       "<module 'src.plots' from '/Users/mac/Studying/Machine learning/Digit_recognition_evolution/linear_classifier/src/plots.py'>"
      ]
     },
     "execution_count": 1,
     "metadata": {},
     "output_type": "execute_result"
    }
   ],
   "source": [
    "import os\n",
    "import sys\n",
    "current_dir = os.getcwd()\n",
    "project_root = os.path.dirname(current_dir)\n",
    "sys.path.append(project_root)\n",
    "import importlib\n",
    "import src.plots \n",
    "import src.utils\n",
    "importlib.reload(src.plots)\n",
    "\n"
   ]
  },
  {
   "cell_type": "code",
   "execution_count": 2,
   "id": "ae7ced82",
   "metadata": {},
   "outputs": [],
   "source": [
    "\n",
    "from src.utils import load_transform_split_mnist , count_classes , check_device\n",
    "from src.plots import  show_samples\n",
    "\n",
    "train_loader,val_loader,test_loader , train_size,val_size, test_size = load_transform_split_mnist()"
   ]
  },
  {
   "cell_type": "markdown",
   "id": "5645dc34",
   "metadata": {},
   "source": [
    "**let's show some samples**"
   ]
  },
  {
   "cell_type": "code",
   "execution_count": 3,
   "id": "6c89ee12",
   "metadata": {},
   "outputs": [
    {
     "data": {
      "image/png": "[encoded data removed]",
      "text/plain": [
       "<Figure size 800x800 with 9 Axes>"
      ]
     },
     "metadata": {},
     "output_type": "display_data"
    }
   ],
   "source": [
    "importlib.reload(src.plots)\n",
    "show_samples(train_loader)"
   ]
  },
  {
   "cell_type": "markdown",
   "id": "005944f8",
   "metadata": {},
   "source": [
    "**checking balance**"
   ]
  },
  {
   "cell_type": "code",
   "execution_count": 4,
   "id": "c174c1a7",
   "metadata": {},
   "outputs": [
    {
     "name": "stdout",
     "output_type": "stream",
     "text": [
      "Using Apple Silicon MPS GPU\n",
      "Device: mps\n",
      "{1: 5394, 3: 4905, 6: 4734, 8: 4681, 5: 4337, 7: 5012, 0: 4738, 4: 4674, 9: 4759, 2: 4766}\n"
     ]
    }
   ],
   "source": [
    "# first we check on our device for function necessties\n",
    "check_device()\n",
    "\n",
    "from importlib import reload\n",
    "import src.utils as utils\n",
    "\n",
    "reload(utils)\n",
    "\n",
    "counts = utils.count_classes(train_loader)\n",
    "counts = {int(k): v for k, v in counts.items()}\n",
    "print(counts)\n"
   ]
  },
  {
   "cell_type": "markdown",
   "id": "d0b2ef48",
   "metadata": {},
   "source": [
    "Our  data is not no skewed significantly \n",
    "\n",
    "now we explore the data shape\n"
   ]
  },
  {
   "cell_type": "code",
   "execution_count": 5,
   "id": "71603b79",
   "metadata": {},
   "outputs": [
    {
     "name": "stdout",
     "output_type": "stream",
     "text": [
      "==================================================\n",
      "Images shape: torch.Size([64, 1, 28, 28])\n",
      "Labels shape: torch.Size([64])\n",
      "==================================================\n",
      "0.0 1.0\n"
     ]
    }
   ],
   "source": [
    "images, labels = next(iter(train_loader))\n",
    "\n",
    "print(\"=\"*50)\n",
    "print(\"Images shape:\", images.shape)\n",
    "print(\"Labels shape:\", labels.shape)\n",
    "print(\"=\"*50)\n",
    "print(images.min().item(), images.max().item())\n"
   ]
  },
  {
   "cell_type": "code",
   "execution_count": 6,
   "id": "979c50f7",
   "metadata": {},
   "outputs": [
    {
     "name": "stdout",
     "output_type": "stream",
     "text": [
      "##################################################\n",
      "Fitting the model to training data !!!\n",
      "##################################################\n",
      "##################################################\n",
      "Epoch 1/10, Loss: -57.1368\n",
      "meow\n",
      "##################################################\n",
      "Epoch 2/10, Loss: -63.4835\n",
      "meow\n",
      "##################################################\n",
      "Epoch 3/10, Loss: -63.5476\n",
      "meow\n",
      "##################################################\n",
      "Epoch 4/10, Loss: -63.5731\n",
      "meow\n",
      "##################################################\n",
      "Epoch 5/10, Loss: -63.5863\n",
      "meow\n",
      "##################################################\n",
      "Epoch 6/10, Loss: -63.5941\n",
      "meow\n",
      "##################################################\n",
      "Epoch 7/10, Loss: -63.5994\n",
      "meow\n",
      "##################################################\n",
      "Epoch 8/10, Loss: -63.6016\n",
      "meow\n",
      "##################################################\n",
      "Epoch 9/10, Loss: -63.6053\n",
      "meow\n",
      "##################################################\n",
      "Epoch 10/10, Loss: -63.6079\n",
      "meow\n"
     ]
    }
   ],
   "source": [
    "from src.logistic_regression_scratch import LogisticRegressionScratch\n",
    "\n",
    "images_flat = images.view(images.shape[0],-1)\n",
    "print(\"#\"*50)\n",
    "print(\"Fitting the model to training data !!!\")\n",
    "print(\"#\"*50)\n",
    "LRS = LogisticRegressionScratch(images_flat.shape[1])\n",
    "LRS.fit(train_loader)\n",
    "\n",
    "\n"
   ]
  }
 ],
 "metadata": {
  "kernelspec": {
   "display_name": "qattan",
   "language": "python",
   "name": "python3"
  },
  "language_info": {
   "codemirror_mode": {
    "name": "ipython",
    "version": 3
   },
   "file_extension": ".py",
   "mimetype": "text/x-python",
   "name": "python",
   "nbconvert_exporter": "python",
   "pygments_lexer": "ipython3",
   "version": "3.10.19"
  }
 },
 "nbformat": 4,
 "nbformat_minor": 5
}
