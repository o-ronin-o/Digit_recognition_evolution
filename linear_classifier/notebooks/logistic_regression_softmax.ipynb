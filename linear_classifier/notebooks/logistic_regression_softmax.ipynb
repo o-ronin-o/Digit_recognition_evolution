{
 "cells": [
  {
   "cell_type": "markdown",
   "id": "4614aca6",
   "metadata": {},
   "source": [
    "## 📌 Notebook 1: Logistic Regression (Binary Classification)\n",
    "\n",
    "### Handwritten Digit Recognition with Logistic Regression\n",
    "\n",
    "This notebook introduces the first step in our learning journey: a linear binary classifier. We build **logistic regression from scratch** using PyTorch tensors to distinguish between two MNIST digits (e.g. 0 vs 1).\n",
    "\n",
    "**Key Goals**\n",
    "- Implement weights, bias, and sigmoid activation manually\n",
    "- Train using binary cross-entropy loss and gradient descent\n",
    "- Track training and validation accuracy and loss\n",
    "- Evaluate the model using a confusion matrix\n",
    "\n",
    "**Expected Takeaway**  \n",
    "Gain a foundational understanding of how gradient-based learning works on a simple binary task.\n"
   ]
  },
  {
   "cell_type": "markdown",
   "id": "41113a04",
   "metadata": {},
   "source": [
    "### Loading our data \n",
    " We will use MNIST Dataset"
   ]
  },
  {
   "cell_type": "code",
   "execution_count": 19,
   "id": "cb2d5d8d",
   "metadata": {},
   "outputs": [
    {
     "data": {
      "text/plain": [
       "<module 'src.plots' from '/Users/mac/Studying/Machine learning/Digit_recognition_evolution/project/src/plots.py'>"
      ]
     },
     "execution_count": 19,
     "metadata": {},
     "output_type": "execute_result"
    }
   ],
   "source": [
    "import os\n",
    "import sys\n",
    "current_dir = os.getcwd()\n",
    "project_root = os.path.dirname(current_dir)\n",
    "sys.path.append(project_root)\n",
    "import importlib\n",
    "import src.plots \n",
    "import src.utils\n",
    "importlib.reload(src.plots)\n",
    "\n"
   ]
  },
  {
   "cell_type": "code",
   "execution_count": 13,
   "id": "ae7ced82",
   "metadata": {},
   "outputs": [],
   "source": [
    "\n",
    "from src.utils import load_transform_split_mnist , count_classes , check_device\n",
    "from src.plots import  show_samples\n",
    "\n",
    "train_loader,val_loader,test_loader , train_size,val_size, test_size = load_transform_split_mnist()"
   ]
  },
  {
   "cell_type": "markdown",
   "id": "5645dc34",
   "metadata": {},
   "source": [
    "**let's show some samples**"
   ]
  },
  {
   "cell_type": "code",
   "execution_count": 14,
   "id": "6c89ee12",
   "metadata": {},
   "outputs": [
    {
     "data": {
      "image/png": "[encoded data removed]",
      "text/plain": [
       "<Figure size 800x800 with 9 Axes>"
      ]
     },
     "metadata": {},
     "output_type": "display_data"
    }
   ],
   "source": [
    "importlib.reload(src.plots)\n",
    "show_samples(train_loader)"
   ]
  },
  {
   "cell_type": "markdown",
   "id": "005944f8",
   "metadata": {},
   "source": [
    "**checking balance**"
   ]
  },
  {
   "cell_type": "code",
   "execution_count": 31,
   "id": "c174c1a7",
   "metadata": {},
   "outputs": [
    {
     "name": "stdout",
     "output_type": "stream",
     "text": [
      "Using Apple Silicon MPS GPU\n",
      "Device: mps\n",
      "{1: 5394, 3: 4905, 6: 4734, 8: 4681, 5: 4337, 7: 5012, 0: 4738, 4: 4674, 9: 4759, 2: 4766}\n"
     ]
    }
   ],
   "source": [
    "# first we check on our device for function necessties\n",
    "check_device()\n",
    "\n",
    "from importlib import reload\n",
    "import src.utils as utils\n",
    "\n",
    "reload(utils)\n",
    "\n",
    "counts = utils.count_classes(train_loader)\n",
    "counts = {int(k): v for k, v in counts.items()}\n",
    "print(counts)\n"
   ]
  }
 ],
 "metadata": {
  "kernelspec": {
   "display_name": "qattan",
   "language": "python",
   "name": "python3"
  },
  "language_info": {
   "codemirror_mode": {
    "name": "ipython",
    "version": 3
   },
   "file_extension": ".py",
   "mimetype": "text/x-python",
   "name": "python",
   "nbconvert_exporter": "python",
   "pygments_lexer": "ipython3",
   "version": "3.10.19"
  }
 },
 "nbformat": 4,
 "nbformat_minor": 5
}
